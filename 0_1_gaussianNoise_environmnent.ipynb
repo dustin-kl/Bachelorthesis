{
 "cells": [
  {
   "cell_type": "code",
   "execution_count": 1,
   "metadata": {},
   "outputs": [],
   "source": [
    "#import libraries\n",
    "\n",
    "import tensorflow as tf\n",
    "from tensorflow import keras\n",
    "from keras.models import Sequential\n",
    "from keras.layers import Dense, Dropout\n",
    "from keras.utils import plot_model\n",
    "from keras.datasets import mnist\n",
    "\n",
    "import numpy as np\n",
    "import pandas as pd\n",
    "\n",
    "import matplotlib.pyplot as plt\n",
    "from PIL import Image\n"
   ]
  },
  {
   "cell_type": "code",
   "execution_count": 2,
   "metadata": {
    "jupyter": {
     "source_hidden": true
    }
   },
   "outputs": [],
   "source": [
    "#helper functions\n",
    "\n",
    "def SE(pred1, pred2): #arguments = 2 arrays (sum of squares)\n",
    "    return ((pred1-pred2)**2).sum()\n",
    "\n",
    "def MSE(pred1, pred2): #arguments = 2 arrays (mean squard error)\n",
    "    return ((pred1-pred2)**2).mean()\n",
    "    \n",
    "def Gaussian_Im():\n",
    "        return (np.random.normal(loc=1, scale=0.5, size=784)*127.5).astype(int)\n"
   ]
  },
  {
   "cell_type": "code",
   "execution_count": 3,
   "metadata": {
    "jupyter": {
     "source_hidden": true
    }
   },
   "outputs": [],
   "source": [
    "#importing data\n",
    "(all_X, all_y), (testall_X, testall_y) = mnist.load_data()\n",
    "\n",
    "#preprocess data\n",
    "\n",
    "#discard all images not depicting a 0 or 1\n",
    "train_X1 = []\n",
    "train_y1 = []\n",
    "train_X0 = []\n",
    "train_y0 = []\n",
    "for xi in range(len(all_X)):\n",
    "    if(all_y[xi] == 1):\n",
    "        train_X1.append(np.reshape(all_X[xi],784))\n",
    "        train_y1.append(1)\n",
    "    if(all_y[xi] == 0):\n",
    "        train_X0.append(np.reshape(all_X[xi],784))\n",
    "        train_y0.append(0)\n",
    "\n",
    "test_X1 = []\n",
    "test_y1 = []\n",
    "test_X0 = []\n",
    "test_y0 = []\n",
    "for xi in range(len(testall_X)):\n",
    "    if(testall_y[xi] == 1):\n",
    "        test_X1.append(np.reshape(testall_X[xi],784))\n",
    "        test_y1.append(1)\n",
    "    if(testall_y[xi] == 0):\n",
    "        test_X0.append(np.reshape(testall_X[xi],784))\n",
    "        test_y0.append(0)\n",
    "        \n",
    "train_X0 = np.asarray(train_X0) #train images depicting a 0, correct dimension (784)\n",
    "train_y0 = np.asarray(train_y0)\n",
    "train_X1 = np.asarray(train_X1)\n",
    "train_y1 = np.asarray(train_y1)\n",
    "\n",
    "test_X0 = np.asarray(test_X0)\n",
    "test_y0 = np.asarray(test_y0)\n",
    "test_X1 = np.asarray(test_X1)\n",
    "test_y1 = np.asarray(test_y1)\n",
    "\n",
    "#normalize data in [0,1]\n"
   ]
  },
  {
   "cell_type": "code",
   "execution_count": 4,
   "metadata": {},
   "outputs": [],
   "source": [
    "#building networks\n",
    "\n",
    "#target network\n",
    "target = Sequential()\n",
    "target.add(keras.Input(shape=(784,)))\n",
    "target.add(Dense(64, activation='sigmoid', kernel_initializer=keras.initializers.RandomNormal(stddev=2), bias_initializer='random_normal'))\n",
    "target.add(Dropout(0.2))\n",
    "target.add(Dense(64, activation='sigmoid', kernel_initializer=keras.initializers.RandomNormal(stddev=2), bias_initializer='random_normal'))\n",
    "target.add(Dropout(0.2))\n",
    "target.add(Dense(24,activation='linear', kernel_initializer=keras.initializers.RandomNormal(stddev=2), bias_initializer='random_normal'))\n",
    "\n",
    "#prediction network (same architecture, different intialization)\n",
    "prediction = Sequential()\n",
    "prediction.add(keras.Input(shape=(784,)))\n",
    "prediction.add(Dense(64, activation='sigmoid', kernel_initializer=keras.initializers.RandomNormal(stddev=2), bias_initializer='zeros'))\n",
    "target.add(Dropout(0.2))\n",
    "prediction.add(Dense(64, activation='sigmoid', kernel_initializer=keras.initializers.RandomNormal(stddev=2), bias_initializer='zeros'))\n",
    "target.add(Dropout(0.2))\n",
    "prediction.add(Dense(24,activation='linear', kernel_initializer=keras.initializers.RandomNormal(stddev=2), bias_initializer='zeros'))\n",
    "\n",
    "#prediction.summary()\n",
    "#plot_model(prediction)"
   ]
  },
  {
   "cell_type": "code",
   "execution_count": 5,
   "metadata": {},
   "outputs": [
    {
     "name": "stdout",
     "output_type": "stream",
     "text": [
      "(3000, 784)\n",
      "(3000, 24)\n"
     ]
    }
   ],
   "source": [
    "#compute Gaussian Images\n",
    "gauss = []\n",
    "for i in range(1000):\n",
    "    gauss.append(Gaussian_Im())\n",
    "gauss = np.asarray(gauss)\n",
    "#print(gauss[0])\n",
    "\n",
    "#concatenate 0-imgages and gauss-images\n",
    "train_im = np.concatenate((train_X0[0:1000], gauss))\n",
    "#train_im = np.concatenate((train_X0[0:1000], gauss, train_X1[0:1000]))\n",
    "print(train_im.shape)\n",
    "\n",
    "#compute target values\n",
    "val_target = target.predict(train_im)\n",
    "print(val_target.shape)\n",
    "\n",
    "#pred = target.predict(train_X0[0:2]) * 10\n",
    "#print(\"input image: \", train_X0[0].shape)\n",
    "#print(pred.shape)\n",
    "#pred"
   ]
  },
  {
   "cell_type": "code",
   "execution_count": 6,
   "metadata": {},
   "outputs": [
    {
     "name": "stdout",
     "output_type": "stream",
     "text": [
      "error of 0-image before training:      147.10725608825683\n",
      "error of Gauss-image before training:  185.91091323852538\n",
      "error of 1-image before training:      204.57093322753906\n"
     ]
    }
   ],
   "source": [
    "#predict error of 0-image before training\n",
    "sum0 = 0\n",
    "pred1 = prediction.predict(train_X0[1000:1100])\n",
    "pred2 = target.predict(train_X0[1000:1100])\n",
    "for i in range(100):\n",
    "    sum0 = sum0 + MSE(pred1[i], pred2[i])\n",
    "\n",
    "print('error of 0-image before training:     ', sum0/100)\n",
    "\n",
    "\n",
    "#predict error of Gauss-image before training\n",
    "sumG = 0\n",
    "for i in range(100):\n",
    "    image = np.asarray([Gaussian_Im()])\n",
    "    sumG = sumG + MSE(target.predict(image), prediction.predict(image))\n",
    "\n",
    "print('error of Gauss-image before training: ', sumG/100)\n",
    "\n",
    "\n",
    "#predict error of 1-image before training\n",
    "sum1 = 0\n",
    "pred1 = prediction.predict(train_X1[0:100])\n",
    "pred2 = target.predict(train_X1[0:100])\n",
    "for i in range(100):\n",
    "    sum1 = sum1 + MSE(pred1[i], pred2[i])\n",
    "\n",
    "print('error of 1-image before training:     ', sum1/100)"
   ]
  },
  {
   "cell_type": "code",
   "execution_count": 7,
   "metadata": {},
   "outputs": [
    {
     "name": "stdout",
     "output_type": "stream",
     "text": [
      "Epoch 1/10\n",
      "375/375 - 1s - loss: 86.5390\n",
      "Epoch 2/10\n",
      "375/375 - 1s - loss: 39.9938\n",
      "Epoch 3/10\n",
      "375/375 - 1s - loss: 32.9924\n",
      "Epoch 4/10\n",
      "375/375 - 1s - loss: 29.5210\n",
      "Epoch 5/10\n",
      "375/375 - 1s - loss: 27.5285\n",
      "Epoch 6/10\n",
      "375/375 - 1s - loss: 26.4406\n",
      "Epoch 7/10\n",
      "375/375 - 1s - loss: 25.7758\n",
      "Epoch 8/10\n",
      "375/375 - 1s - loss: 25.2270\n",
      "Epoch 9/10\n",
      "375/375 - 1s - loss: 24.7277\n",
      "Epoch 10/10\n",
      "375/375 - 1s - loss: 24.3182\n"
     ]
    },
    {
     "data": {
      "text/plain": [
       "<tensorflow.python.keras.callbacks.History at 0x7fe4dc606850>"
      ]
     },
     "execution_count": 7,
     "metadata": {},
     "output_type": "execute_result"
    }
   ],
   "source": [
    "#training\n",
    "\n",
    "prediction.compile(\n",
    "    loss='MSE',\n",
    "    optimizer='adam'\n",
    "    #metrics=,\n",
    ")\n",
    "\n",
    "prediction.fit(\n",
    "    train_im,\n",
    "    val_target,\n",
    "    epochs=10,\n",
    "    batch_size=8,\n",
    "    verbose=2,\n",
    "    shuffle=True\n",
    ")"
   ]
  },
  {
   "cell_type": "code",
   "execution_count": 8,
   "metadata": {},
   "outputs": [
    {
     "name": "stdout",
     "output_type": "stream",
     "text": [
      "error of 0-image before training:      28.07582675933838\n",
      "error of Gauss-image before training:  19.195468554496767\n",
      "error of 1-image before training:      24.67736753463745\n"
     ]
    }
   ],
   "source": [
    "#predict error of 0-image after training\n",
    "sum0 = 0\n",
    "pred1 = prediction.predict(train_X0[1000:1100])\n",
    "pred2 = target.predict(train_X0[1000:1100])\n",
    "for i in range(100):\n",
    "    sum0 = sum0 + MSE(pred1[i], pred2[i])\n",
    "\n",
    "print('error of 0-image before training:     ', sum0/100)\n",
    "\n",
    "\n",
    "#predict error of Gauss-image after training\n",
    "sumG = 0\n",
    "for i in range(100):\n",
    "    image = np.asarray([Gaussian_Im()])\n",
    "    sumG = sumG + MSE(target.predict(image), prediction.predict(image))\n",
    "\n",
    "print('error of Gauss-image before training: ', sumG/100)\n",
    "\n",
    "\n",
    "#predict error of 1-image after training\n",
    "sum1 = 0\n",
    "pred1 = prediction.predict(train_X1[0:100])\n",
    "pred2 = target.predict(train_X1[0:100])\n",
    "for i in range(100):\n",
    "    sum1 = sum1 + MSE(pred1[i], pred2[i])\n",
    "\n",
    "print('error of 1-image before training:     ', sum1/100)"
   ]
  },
  {
   "cell_type": "code",
   "execution_count": null,
   "metadata": {},
   "outputs": [],
   "source": []
  }
 ],
 "metadata": {
  "kernelspec": {
   "display_name": "Python 3",
   "language": "python",
   "name": "python3"
  },
  "language_info": {
   "codemirror_mode": {
    "name": "ipython",
    "version": 3
   },
   "file_extension": ".py",
   "mimetype": "text/x-python",
   "name": "python",
   "nbconvert_exporter": "python",
   "pygments_lexer": "ipython3",
   "version": "3.8.3"
  }
 },
 "nbformat": 4,
 "nbformat_minor": 4
}
